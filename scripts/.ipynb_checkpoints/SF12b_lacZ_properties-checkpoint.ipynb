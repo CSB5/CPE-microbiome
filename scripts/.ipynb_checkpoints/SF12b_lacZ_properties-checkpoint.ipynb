{
 "cells": [
  {
   "cell_type": "markdown",
   "metadata": {
    "lines_to_next_cell": 0
   },
   "source": [
    "# lacZ_properties"
   ]
  },
  {
   "cell_type": "code",
   "execution_count": null,
   "metadata": {},
   "outputs": [],
   "source": [
    "%load_ext autoreload\n",
    "%autoreload 2\n",
    "from scipy import stats\n",
    "import pandas as pd\n",
    "pd.set_option('display.max_rows', 1000)\n",
    "import numpy as np\n",
    "from pymol import cmd\n",
    "import sys\n",
    "import os\n",
    "sys.path.insert(0, os.path.abspath('utilities'))\n",
    "from distancetoatom_script import distancetoatom\n",
    "from pairwisedistances import pairwise_dist\n",
    "import data2bfactor as dbf\n",
    "import custom_pymol_util as jpu\n",
    "from tqdm import tqdm\n",
    "import matplotlib.pyplot as plt\n",
    "import seaborn as sns\n",
    "sns.set_style('white')\n",
    "\n",
    "import plotly.express as px\n",
    "from Bio.PDB import PDBParser\n",
    "from Bio.PDB.DSSP import DSSP\n",
    "import Bio\n",
    "import Bio.SeqUtils\n",
    "import Bio.codonalign\n",
    "import Bio.KEGG.REST as BKR\n",
    "#https://www.pymolwiki.org/index.php/Iterate\n",
    "#https://pymolwiki.org/index.php/Selection_Algebraç"
   ]
  },
  {
   "cell_type": "markdown",
   "metadata": {
    "lines_to_next_cell": 0
   },
   "source": [
    "# Load protein"
   ]
  },
  {
   "cell_type": "code",
   "execution_count": null,
   "metadata": {},
   "outputs": [],
   "source": [
    "cmd.delete('all')\n",
    "cmd.fetch(\"4dux\")\n",
    "atomDF = jpu.get_atom_from_selection('all')\n",
    "protlen = 1024"
   ]
  },
  {
   "cell_type": "markdown",
   "metadata": {
    "lines_to_next_cell": 0
   },
   "source": [
    "# Find distance of resi to ribose"
   ]
  },
  {
   "cell_type": "code",
   "execution_count": null,
   "metadata": {},
   "outputs": [],
   "source": [
    "#Selection\n",
    "distance = 10\n",
    "query = \"chain A\"\n",
    "cmd.select('ribose','/4dux/E/A/0MK`2001 or /4dux/F/A/0MK`2002')\n",
    "target = 'ribose'\n",
    "dist2sugar = jpu.find_dist(query, target, distance)\n",
    "atomDF['dist2sugar'] = dist2sugar\n",
    "resDF = atomDF[(atomDF['chain']=='B')| (atomDF['chain']=='A')].groupby(['resi']).min().loc[1:1023]"
   ]
  },
  {
   "cell_type": "markdown",
   "metadata": {
    "lines_to_next_cell": 0
   },
   "source": [
    "# All variants"
   ]
  },
  {
   "cell_type": "code",
   "execution_count": null,
   "metadata": {
    "lines_to_next_cell": 2
   },
   "outputs": [],
   "source": [
    "# Get variants\n",
    "ecVariants = pd.read_excel('../data/ec_variant_SS_rescuedlt5.xlsx', index_col=[0,1],header=0)\n",
    "all_variants = ecVariants.loc['lacZ']\n",
    "#all_variants = pd.read_csv('../../all_variants.csv', index_col=0) #ecoli_variant2.xlsx has more variant because it includes non-consecutive SS\n",
    "var_loc = all_variants['aa_pos']\n",
    "\n",
    "# Get effects of mutations\n",
    "## Get Miyata distance matrix\n",
    "distance_matrix = pd.read_excel('../data/Miyata_distance.xlsx')\n",
    "m = np.triu(np.array(distance_matrix.set_index('Unnamed: 20')))\n",
    "i_lower = np.tril_indices(m.shape[0], -1)\n",
    "m[i_lower] = m.T[i_lower]\n",
    "np.fill_diagonal(m,0)\n",
    "miyata_matrix = pd.DataFrame(m,index=distance_matrix['Unnamed: 20'].values,columns=distance_matrix['Unnamed: 20'].values)\n",
    "\n",
    "## Get mutations\n",
    "mutation = all_variants[['aa_pos','aa_before','aa_after']]\n",
    "impact = []\n",
    "for ind,i in mutation.iterrows():\n",
    "    impact.append(miyata_matrix.loc[i['aa_before'],i['aa_after']])\n",
    "mutation['impact'] = impact\n",
    "mutation_pos = mutation['aa_pos']\n",
    "missense_mutation = mutation[mutation['impact']>0]\n",
    "missense_count = missense_mutation['aa_pos'].count() #Count missense mutation"
   ]
  },
  {
   "cell_type": "markdown",
   "metadata": {
    "lines_to_next_cell": 0
   },
   "source": [
    "# dN/dS"
   ]
  },
  {
   "cell_type": "code",
   "execution_count": null,
   "metadata": {
    "title": "dN/dS"
   },
   "outputs": [],
   "source": [
    "lacZVariants = ecVariants.loc['lacZ']\n",
    "# Get OG seq\n",
    "window = 15\n",
    "gene = 'LacZ'\n",
    "kegg_data = list(BKR.kegg_get(f'ect:LacZ', option=\"ntseq\"))\n",
    "kegg_data2 = list(BKR.kegg_get(f'ect:LacZ', option=\"aaseq\"))\n",
    "ntseq = \"\".join([i.rstrip() for i in kegg_data[1:]])\n",
    "aaseq = \"\".join([i.rstrip() for i in kegg_data2[1:]])\n",
    "\n",
    "# Get mutated seq\n",
    "## Mutate sequence\n",
    "mutseq = list(ntseq)\n",
    "for i in lacZVariants['nt_pos']:\n",
    "    target = lacZVariants.set_index('nt_pos').loc[i]['nt_aft']\n",
    "    try:\n",
    "        assert len(target)==1\n",
    "    except AssertionError:\n",
    "        target = target.iloc[0]\n",
    "    mutseq[i-1] = target.lower()\n",
    "\n",
    "mutseq = ''.join(mutseq)\n",
    "window_dNdS = []\n",
    "for pos in range(0, 1023):\n",
    "    if (pos > window) & (pos < 1023-window):\n",
    "        ntseq_window = ntseq[3*(pos-window):3*(pos+window)]\n",
    "        mutseq_window = mutseq[3*(pos-window):3*(pos+window)]\n",
    "        dN,dS = Bio.codonalign.codonseq.cal_dn_ds(Bio.codonalign.codonseq.CodonSeq(ntseq_window), Bio.codonalign.codonseq.CodonSeq(mutseq_window), method='NG86')\n",
    "        try:\n",
    "            window_dNdS.append(dN/dS)\n",
    "        except ZeroDivisionError:\n",
    "            window_dNdS.append(np.nan)\n",
    "    else:\n",
    "        window_dNdS.append(np.nan)"
   ]
  },
  {
   "cell_type": "markdown",
   "metadata": {
    "lines_to_next_cell": 0
   },
   "source": [
    "# Plot bar for paper"
   ]
  },
  {
   "cell_type": "code",
   "execution_count": null,
   "metadata": {},
   "outputs": [],
   "source": [
    "figure = plt.figure(figsize = (10,3))\n",
    "\n",
    "# Plot distance from ribose\n",
    "aa_prot = ['dist2sugar']\n",
    "titles = [r'Residues within 10$\\AA$ of ribose']\n",
    "dist2sugar = resDF['dist2sugar'].fillna(10)\n",
    "dist2sugar[dist2sugar<10] = 1\n",
    "dist2sugar[dist2sugar>=10] = 0\n",
    "for ind, i in enumerate(aa_prot):\n",
    "    ax = figure.add_subplot(2,1,1)\n",
    "    pd.Series(dist2sugar).plot.bar(ax=ax, title=titles[ind],width=1,edgecolor = \"none\")\n",
    "    ax.axes.xaxis.set_visible(False)\n",
    "\n",
    "# Plot hot cold spots missense\n",
    "# ax = figure.add_subplot(2,1,2)\n",
    "# pd.Series(window_mis_var, resDF.index).plot.bar(ax=ax,title='Cold spots of missense mutations',width=1,edgecolor = \"none\")\n",
    "\n",
    "# Plot dN/dS\n",
    "ax = figure.add_subplot(212)\n",
    "pd.Series(window_dNdS, resDF.index).plot.bar(ax=ax,title='dN/dS',width=1,edgecolor = \"none\")\n",
    "#ax.set_ylim(0,0.5)\n",
    "\n",
    "# Plot\n",
    "figure.tight_layout()\n",
    "plt.locator_params(axis='x',nbins=50)\n",
    "\n",
    "#figure.savefig('../../results/LacZ_distRibose_dNdS.pdf')"
   ]
  },
  {
   "cell_type": "markdown",
   "metadata": {
    "lines_to_next_cell": 0
   },
   "source": [
    "# Calculate p-value"
   ]
  },
  {
   "cell_type": "code",
   "execution_count": null,
   "metadata": {},
   "outputs": [],
   "source": [
    "sugar = dist2sugar==1\n",
    "non_sugar = ~sugar\n",
    "sugar_dNdS = pd.Series(window_dNdS,index=sugar.index)[sugar]\n",
    "non_sugar_dNdS = pd.Series(window_dNdS,index=sugar.index)[non_sugar]\n",
    "\n",
    "p_val = stats.ranksums(sugar_dNdS, non_sugar_dNdS)"
   ]
  }
 ],
 "metadata": {
  "jupytext": {
   "cell_metadata_filter": "title,-all",
   "formats": "auto:hydrogen,ipynb",
   "notebook_metadata_filter": "-all"
  },
  "kernelspec": {
   "display_name": "Python 3",
   "language": "python",
   "name": "python3"
  },
  "language_info": {
   "codemirror_mode": {
    "name": "ipython",
    "version": 3
   },
   "file_extension": ".py",
   "mimetype": "text/x-python",
   "name": "python",
   "nbconvert_exporter": "python",
   "pygments_lexer": "ipython3",
   "version": "3.7.6"
  }
 },
 "nbformat": 4,
 "nbformat_minor": 4
}

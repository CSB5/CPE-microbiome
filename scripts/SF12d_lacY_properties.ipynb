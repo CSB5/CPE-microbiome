{
 "cells": [
  {
   "cell_type": "markdown",
   "metadata": {},
   "source": [
    "# lacY Properties\n",
    "Calculate physiochemical and mutational properties of lacY"
   ]
  },
  {
   "cell_type": "code",
   "execution_count": 1,
   "metadata": {
    "lines_to_next_cell": 0
   },
   "outputs": [
    {
     "name": "stderr",
     "output_type": "stream",
     "text": [
      "/opt/conda/lib/python3.7/site-packages/Bio/codonalign/__init__.py:26: BiopythonExperimentalWarning: Bio.codonalign is an experimental module which may undergo significant changes prior to its future official release.\n",
      "  BiopythonExperimentalWarning,\n"
     ]
    }
   ],
   "source": [
    "%load_ext autoreload\n",
    "%autoreload 2\n",
    "from scipy import stats\n",
    "import pandas as pd\n",
    "pd.set_option('display.max_rows', 1000)\n",
    "import numpy as np\n",
    "from pymol import cmd\n",
    "import sys\n",
    "import os\n",
    "sys.path.insert(0, os.path.abspath('utilities'))\n",
    "from distancetoatom_script import distancetoatom\n",
    "import data2bfactor as dbf\n",
    "from pairwisedistances import pairwise_dist\n",
    "import custom_pymol_util as jpu\n",
    "from tqdm import tqdm\n",
    "import matplotlib.pyplot as plt\n",
    "import seaborn as sns\n",
    "sns.set_style('white')\n",
    "\n",
    "import plotly.express as px\n",
    "from Bio.PDB import PDBParser\n",
    "from Bio.PDB.DSSP import DSSP\n",
    "import Bio\n",
    "import Bio.SeqUtils\n",
    "import Bio.codonalign\n",
    "import Bio.KEGG.REST as BKR\n",
    "#https://www.pymolwiki.org/index.php/Iterate\n",
    "#https://pymolwiki.org/index.php/Selection_Algebraç\n"
   ]
  },
  {
   "cell_type": "markdown",
   "metadata": {},
   "source": [
    "# Load protein"
   ]
  },
  {
   "cell_type": "code",
   "execution_count": 2,
   "metadata": {
    "title": "Load protein"
   },
   "outputs": [
    {
     "name": "stdout",
     "output_type": "stream",
     "text": [
      " PyMOL not running, entering library mode (experimental)\n"
     ]
    }
   ],
   "source": [
    "cmd.delete('all')\n",
    "cmd.fetch(\"1PV7\")\n",
    "atomDF = jpu.get_atom_from_selection('all')\n",
    "protlen = 417"
   ]
  },
  {
   "cell_type": "markdown",
   "metadata": {},
   "source": [
    "# Find distance of resi to sugar"
   ]
  },
  {
   "cell_type": "code",
   "execution_count": 3,
   "metadata": {
    "title": "Find distance of resi to sugar"
   },
   "outputs": [
    {
     "name": "stderr",
     "output_type": "stream",
     "text": [
      "100%|██████████| 6626/6626 [00:07<00:00, 848.13it/s] \n"
     ]
    }
   ],
   "source": [
    "#Selection\n",
    "distance = 10\n",
    "query = \"chain A\"\n",
    "target = '/1PV7/C/E/GAL or /1PV7/C/E/YIO'\n",
    "dist2sugar = jpu.find_dist(query, target, distance)\n",
    "aa = dist2sugar\n",
    "atomDF['dist2sugar'] = dist2sugar\n",
    "resDF = atomDF[(atomDF['chain']=='A')].groupby(['resi']).min().loc[1:417]"
   ]
  },
  {
   "cell_type": "markdown",
   "metadata": {},
   "source": [
    "# Processing variants"
   ]
  },
  {
   "cell_type": "code",
   "execution_count": 4,
   "metadata": {
    "title": "Processing variants"
   },
   "outputs": [
    {
     "name": "stderr",
     "output_type": "stream",
     "text": [
      "/opt/conda/lib/python3.7/site-packages/ipykernel_launcher.py:15: SettingWithCopyWarning: \n",
      "A value is trying to be set on a copy of a slice from a DataFrame.\n",
      "Try using .loc[row_indexer,col_indexer] = value instead\n",
      "\n",
      "See the caveats in the documentation: https://pandas.pydata.org/pandas-docs/stable/user_guide/indexing.html#returning-a-view-versus-a-copy\n",
      "  from ipykernel import kernelapp as app\n",
      "/opt/conda/lib/python3.7/site-packages/ipykernel_launcher.py:22: SettingWithCopyWarning: \n",
      "A value is trying to be set on a copy of a slice from a DataFrame.\n",
      "Try using .loc[row_indexer,col_indexer] = value instead\n",
      "\n",
      "See the caveats in the documentation: https://pandas.pydata.org/pandas-docs/stable/user_guide/indexing.html#returning-a-view-versus-a-copy\n"
     ]
    }
   ],
   "source": [
    "# Get variants\n",
    "allGeneVariants = pd.read_excel('../data/ec_variant_SS_rescuedlt5.xlsx', index_col=[0,1],header=0)\n",
    "geneVariants = allGeneVariants.loc['lacY']\n",
    "var_loc = geneVariants['aa_pos']\n",
    "\n",
    "# Get effects of mutations\n",
    "distance_matrix = pd.read_excel('../data/Miyata_distance.xlsx')\n",
    "m = np.triu(np.array(distance_matrix.set_index('Unnamed: 20')))\n",
    "i_lower = np.tril_indices(m.shape[0], -1)\n",
    "m[i_lower] = m.T[i_lower]\n",
    "np.fill_diagonal(m,0)\n",
    "miyata_matrix = pd.DataFrame(m,index=distance_matrix['Unnamed: 20'].values,columns=distance_matrix['Unnamed: 20'].values)\n",
    "\n",
    "mutation = geneVariants[['aa_pos','aa_before','aa_after']]\n",
    "mutation['aa_pos'] = mutation['aa_pos'].astype('int')\n",
    "impact = []\n",
    "for ind,i in mutation.iterrows():\n",
    "    try:\n",
    "        impact.append(miyata_matrix.loc[i['aa_before'],i['aa_after']])\n",
    "    except KeyError:\n",
    "        impact.append(np.nan)\n",
    "mutation['impact'] = impact\n",
    "mutation_pos = mutation['aa_pos']\n",
    "missense_mutation = mutation[mutation['impact']>0]\n",
    "missense_count = missense_mutation['aa_pos'].count() #Count missense mutation\n",
    "\n",
    "#variant location\n",
    "length = len(resDF.loc[0:437].index)\n",
    "variants = np.zeros(length)\n",
    "variants[mutation_pos[mutation_pos<length]] = mutation[mutation_pos<length]['impact']"
   ]
  },
  {
   "cell_type": "markdown",
   "metadata": {},
   "source": [
    "# dN/dS"
   ]
  },
  {
   "cell_type": "code",
   "execution_count": 5,
   "metadata": {
    "title": "dN/dS"
   },
   "outputs": [],
   "source": [
    "# Get OG seq\n",
    "window = 15\n",
    "gene = 'LacY'\n",
    "kegg_data = list(BKR.kegg_get(f'ect:LacY', option=\"ntseq\"))\n",
    "kegg_data2 = list(BKR.kegg_get(f'ect:LacY', option=\"aaseq\"))\n",
    "ntseq = \"\".join([i.rstrip() for i in kegg_data[1:]])\n",
    "aaseq = \"\".join([i.rstrip() for i in kegg_data2[1:]])\n",
    "\n",
    "# Get mutated seq\n",
    "## Mutate sequence\n",
    "mutseq = list(ntseq)\n",
    "for i in geneVariants['nt_pos']:\n",
    "    target = geneVariants.set_index('nt_pos').loc[i]['nt_aft']\n",
    "    try:\n",
    "        assert len(target)==1\n",
    "    except AssertionError:\n",
    "        target = target.iloc[0]\n",
    "    mutseq[i-1] = target.lower()\n",
    "\n",
    "mutseq = ''.join(mutseq)\n",
    "window_dNdS = []\n",
    "for pos in range(0, protlen):\n",
    "    if (pos > window) & (pos < protlen-window-3):\n",
    "        ntseq_window = ntseq[3*(pos-window):3*(pos+window)]\n",
    "        mutseq_window = mutseq[3*(pos-window):3*(pos+window)]\n",
    "        dN,dS = Bio.codonalign.codonseq.cal_dn_ds(Bio.codonalign.codonseq.CodonSeq(ntseq_window), Bio.codonalign.codonseq.CodonSeq(mutseq_window), method='NG86')\n",
    "        try:\n",
    "            window_dNdS.append(dN/dS)\n",
    "        except ZeroDivisionError:\n",
    "            window_dNdS.append(np.nan)\n",
    "    else:\n",
    "        window_dNdS.append(np.nan)"
   ]
  },
  {
   "cell_type": "markdown",
   "metadata": {},
   "source": [
    "# Plot Figure"
   ]
  },
  {
   "cell_type": "code",
   "execution_count": 8,
   "metadata": {
    "title": "Plot bar for paper"
   },
   "outputs": [
    {
     "data": {
      "image/png": "[encoded data removed]",
      "text/plain": [
       "<Figure size 720x216 with 2 Axes>"
      ]
     },
     "metadata": {},
     "output_type": "display_data"
    }
   ],
   "source": [
    "figure = plt.figure(figsize = (10,3))\n",
    "\n",
    "# Plot distance from ribose\n",
    "titles = r'Residues within 10$\\AA$ of ribose'\n",
    "dist2site = resDF['dist2sugar'].fillna(10)\n",
    "dist2site[dist2site<10] = 1\n",
    "dist2site[dist2site>=10] = 0\n",
    "ax = figure.add_subplot(2,1,1)\n",
    "pd.Series(dist2site).plot.bar(ax=ax, title=titles,width=1,edgecolor=\"none\")\n",
    "ax.axes.xaxis.set_visible(False)\n",
    "\n",
    "# Plot dN/dS\n",
    "ax = figure.add_subplot(212)\n",
    "pd.Series(window_dNdS[0:protlen+1], resDF[0:protlen+1].index).plot.bar(ax=ax,title='dN/dS',width=1,edgecolor = \"none\")\n",
    "#ax.set_ylim(0,0.5)\n",
    "\n",
    "# Plot\n",
    "figure.tight_layout()\n",
    "plt.locator_params(axis='x',nbins=50)\n",
    "\n",
    "#figure.savefig('../../results/LacY_distDNA_dNdS.pdf')"
   ]
  },
  {
   "cell_type": "markdown",
   "metadata": {},
   "source": [
    "# p-value"
   ]
  },
  {
   "cell_type": "code",
   "execution_count": 11,
   "metadata": {
    "title": "Calculate p-value"
   },
   "outputs": [
    {
     "data": {
      "text/plain": [
       "RanksumsResult(statistic=-2.183895686903561, pvalue=0.028969914033642137)"
      ]
     },
     "execution_count": 11,
     "metadata": {},
     "output_type": "execute_result"
    }
   ],
   "source": [
    "site = dist2site==1\n",
    "non_site = ~site\n",
    "site_dNdS = pd.Series(window_dNdS[0:360],index=site.iloc[0:360].index)[site]\n",
    "non_site_dNdS = pd.Series(window_dNdS[0:360],index=site.iloc[0:360].index)[non_site]\n",
    "p_val = stats.ranksums(non_site_dNdS.dropna(), site_dNdS.dropna())\n",
    "p_val"
   ]
  },
  {
   "cell_type": "code",
   "execution_count": null,
   "metadata": {},
   "outputs": [],
   "source": []
  }
 ],
 "metadata": {
  "jupytext": {
   "cell_metadata_filter": "title,-all",
   "formats": "auto:hydrogen,ipynb",
   "notebook_metadata_filter": "-all"
  },
  "kernelspec": {
   "display_name": "Python 3",
   "language": "python",
   "name": "python3"
  },
  "language_info": {
   "codemirror_mode": {
    "name": "ipython",
    "version": 3
   },
   "file_extension": ".py",
   "mimetype": "text/x-python",
   "name": "python",
   "nbconvert_exporter": "python",
   "pygments_lexer": "ipython3",
   "version": "3.7.6"
  }
 },
 "nbformat": 4,
 "nbformat_minor": 4
}
